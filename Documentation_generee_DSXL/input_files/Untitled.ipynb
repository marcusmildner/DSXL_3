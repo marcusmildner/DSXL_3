{
 "cells": [
  {
   "cell_type": "code",
   "execution_count": 24,
   "id": "adeb9b6e-d02f-4cce-9878-ddb810f5719f",
   "metadata": {},
   "outputs": [],
   "source": [
    "import sympy as sym"
   ]
  },
  {
   "cell_type": "code",
   "execution_count": 25,
   "id": "0593a1be-8b61-4faa-b3e0-2019e158cccb",
   "metadata": {},
   "outputs": [],
   "source": [
    "# Votre code ici :\n",
    "x = sym.symbols('x')\n",
    "# Utilisation de sympy as sym :\n",
    "# https://docs.sympy.org/latest/tutorials/intro-tutorial/basic_operations.html\n",
    "a= 1\n",
    "x0 = 1\n",
    "y0= -6\n",
    "f_can = a*(x-x0)**2+y0\n",
    "f_factor = a*((x-x0-sym.sqrt(int(-y0/a)))*(x-x0+sym.sqrt(int(-y0/a))))\n",
    "f_dev = sym.expand(f_can)\n",
    "#fdev =  r'x^2-2 x -5' "
   ]
  },
  {
   "cell_type": "code",
   "execution_count": 26,
   "id": "3d4b5a2e-f3ba-4111-b509-8a4895325851",
   "metadata": {},
   "outputs": [
    {
     "name": "stdout",
     "output_type": "stream",
     "text": [
      "[1 - sqrt(6), 1 + sqrt(6)]\n",
      "\\left(x - 1 + \\sqrt{6}\\right) \\left(x - \\sqrt{6} - 1\\right)\n"
     ]
    }
   ],
   "source": [
    "print(sym.solve(f_can))\n",
    "print(sym.latex(f_factor))"
   ]
  }
 ],
 "metadata": {
  "kernelspec": {
   "display_name": "Python 3 (ipykernel)",
   "language": "python",
   "name": "python3"
  },
  "language_info": {
   "codemirror_mode": {
    "name": "ipython",
    "version": 3
   },
   "file_extension": ".py",
   "mimetype": "text/x-python",
   "name": "python",
   "nbconvert_exporter": "python",
   "pygments_lexer": "ipython3",
   "version": "3.9.12"
  }
 },
 "nbformat": 4,
 "nbformat_minor": 5
}
